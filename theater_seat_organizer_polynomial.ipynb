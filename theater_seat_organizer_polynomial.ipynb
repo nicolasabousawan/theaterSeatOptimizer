{
 "cells": [
  {
   "cell_type": "code",
   "execution_count": 83,
   "id": "3a788602",
   "metadata": {},
   "outputs": [],
   "source": [
    "import gurobipy as gp\n",
    "from gurobipy import GRB"
   ]
  },
  {
   "cell_type": "markdown",
   "id": "d334d694",
   "metadata": {},
   "source": [
    "# The Model"
   ]
  },
  {
   "cell_type": "code",
   "execution_count": 84,
   "id": "c3b8ac3e",
   "metadata": {},
   "outputs": [],
   "source": [
    "theater_seat_organizer = gp.Model()"
   ]
  },
  {
   "cell_type": "markdown",
   "id": "7f55d7b7",
   "metadata": {},
   "source": [
    "# The Parameters"
   ]
  },
  {
   "cell_type": "code",
   "execution_count": 85,
   "id": "c6e9d6e9",
   "metadata": {},
   "outputs": [],
   "source": [
    "# Uncomment the single file that will be tested and recomment the previous case\n",
    "\n",
    "test_case = \"testcase1-quadratic.txt\"\n",
    "#test_case = \"testcase2-quadratic.txt\"\n",
    "#test_case = \"testcase3-quadratic.txt\"\n",
    "#test_case = \"testcase4-quadratic.txt\"\n",
    "\n",
    "f = open(test_case,\"r\")\n",
    "testfile = f.readlines()\n",
    "\n",
    "test_name = testfile[0].split(\"=\")[1]\n",
    "\n",
    "string_num_of_customers_in_group = testfile[1].split(\" = \")[1]\n",
    "\n",
    "#Convert list of string to list of int\n",
    "number_of_customers_in_group_list = string_num_of_customers_in_group.strip(\"[\").strip(\"\\n\").strip(\"]\").split(\",\")\n",
    "map_list = map(int, number_of_customers_in_group_list)\n",
    "number_of_customers_in_group = list(map_list)\n",
    "\n",
    "number_of_seats = int(testfile[2].split(\" = \")[1])\n",
    "\n",
    "group_bonus = int(testfile[3].split(\" = \")[1])\n",
    "\n",
    "\n",
    "priority_mappings = []\n",
    "\n",
    "for group_num in range(len(number_of_customers_in_group)):\n",
    "    priority_entry = testfile[4+group_num].strip(\"[\").strip(\"\\n\").strip(\"]\").split(\",\")\n",
    "    map_list = map(int, priority_entry)\n",
    "    priority_mappings.append(list(map_list))\n",
    "    map_list = []\n"
   ]
  },
  {
   "cell_type": "markdown",
   "id": "1a5acbb0",
   "metadata": {},
   "source": [
    "# Pre-Processing Logic"
   ]
  },
  {
   "cell_type": "code",
   "execution_count": null,
   "id": "994f6fd0",
   "metadata": {},
   "outputs": [],
   "source": [
    "#ensure priority mapping is symmetric \n",
    "\n",
    "for i, line in enumerate(priority_mappings):\n",
    "    if(i != len(line))\n",
    "    for j in range(len(line)):\n",
    "        if a[i][j] != a[j][i]:\n",
    "             raise(\"Priority matric is not symmetric\")\n",
    "                "
   ]
  },
  {
   "cell_type": "markdown",
   "id": "a3cd7902",
   "metadata": {},
   "source": [
    "# Decision Variables"
   ]
  },
  {
   "cell_type": "code",
   "execution_count": 86,
   "id": "0ca77512",
   "metadata": {},
   "outputs": [],
   "source": [
    "person_inGroup_atSeat = {}\n",
    "\n",
    "for group_num in range(len(number_of_customers_in_group)):\n",
    "    for customer_index in range(0, number_of_customers_in_group[group_num]):\n",
    "        for seat in range(number_of_seats):\n",
    "            \n",
    "            person_inGroup_atSeat[customer_index, group_num, seat] = theater_seat_organizer.addVar(vtype = GRB.BINARY, name = \"person\" + str(customer_index) + \"_inGroup\" + str(group_num) + \"_atSeat\" + str(seat))\n",
    "\n",
    "groupAccepted = {}\n",
    "for group_num in range(len(number_of_customers_in_group)):\n",
    "    groupAccepted[group_num] = theater_seat_organizer.addVar(vtype = GRB.BINARY, name = \"group\" + str(group_num) + \"_admitted\")\n",
    "\n",
    "\n"
   ]
  },
  {
   "cell_type": "markdown",
   "id": "ff81938a",
   "metadata": {},
   "source": [
    "# The Model"
   ]
  },
  {
   "cell_type": "code",
   "execution_count": 87,
   "id": "29e245f6",
   "metadata": {},
   "outputs": [],
   "source": [
    "objectiveFunction = gp.LinExpr()\n",
    "\n",
    "for group_num in range(len(number_of_customers_in_group)):\n",
    "    for customer_index in range(0, number_of_customers_in_group[group_num]):\n",
    "        for seat in range(number_of_seats):\n",
    "            objectiveFunction += person_inGroup_atSeat[customer_index, group_num, seat]   \n",
    "    \n",
    "for group_num in range(len(number_of_customers_in_group)):\n",
    "    for group_num_2 in range(len(number_of_customers_in_group)):\n",
    "        objectiveFunction += group_bonus*0.5*priority_mappings[group_num][group_num_2]*groupAccepted[group_num]*groupAccepted[group_num_2]\n",
    "\n",
    "theater_seat_organizer.setObjective(objectiveFunction,  GRB.MAXIMIZE)"
   ]
  },
  {
   "cell_type": "markdown",
   "id": "1da26322",
   "metadata": {},
   "source": [
    "# Constraints"
   ]
  },
  {
   "cell_type": "code",
   "execution_count": 88,
   "id": "bc8acb91",
   "metadata": {},
   "outputs": [],
   "source": [
    "# at most one person per seat\n",
    "for seat in range(number_of_seats):\n",
    "    at_most_one_person_per_seat = gp.LinExpr()\n",
    "    \n",
    "    for group_num in range(len(number_of_customers_in_group)):\n",
    "        for customer_index in range(0, number_of_customers_in_group[group_num]):\n",
    "            at_most_one_person_per_seat += person_inGroup_atSeat[customer_index, group_num, seat]   \n",
    "    theater_seat_organizer.addConstr(at_most_one_person_per_seat <= 1, name = \"at_most_one_person_at_seat\" + str(seat))\n",
    "\n"
   ]
  },
  {
   "cell_type": "code",
   "execution_count": 89,
   "id": "e8968489",
   "metadata": {},
   "outputs": [],
   "source": [
    "# each person should be assigned to only one seat \n",
    "for group_num in range(len(number_of_customers_in_group)):\n",
    "    for customer_index in range(0, number_of_customers_in_group[group_num]):\n",
    "        seats_per_person = gp.LinExpr()\n",
    "        \n",
    "        for seat in range(number_of_seats):\n",
    "            seats_per_person += person_inGroup_atSeat[customer_index, group_num, seat] \n",
    "            \n",
    "        theater_seat_organizer.addConstr(seats_per_person <= 1, name = \"person\" + str(customer_index) + \"_group\" + str(group_num) + \"_uniqueSeat\")\n"
   ]
  },
  {
   "cell_type": "code",
   "execution_count": 90,
   "id": "faf71aca",
   "metadata": {},
   "outputs": [],
   "source": [
    "# There must be an empty seat between groups \n",
    "for seat in range(number_of_seats - 1):\n",
    "    \n",
    "    for group_num in range(len(number_of_customers_in_group)):\n",
    "        for other_group_num in range(len(number_of_customers_in_group)):\n",
    "            \n",
    "            if not(group_num == other_group_num):    \n",
    "                \n",
    "                for customer_index in range(0, number_of_customers_in_group[group_num]):\n",
    "                    for customer2_index in range(0, number_of_customers_in_group[other_group_num]):\n",
    "                        \n",
    "                        seat1 = person_inGroup_atSeat[customer_index, group_num, seat]\n",
    "                        seat2 = person_inGroup_atSeat[customer2_index, other_group_num, seat+1]\n",
    "                        label = \"person\" + str(customer_index) + \"_inGroup\" + str(group_num) + \"_andPerson\" + str(customer2_index) + \"+inGroup\" + str(other_group_num) + \"_cannotSitTogether\"\n",
    "                        theater_seat_organizer.addConstr( seat1 + seat2 <= 1, name = label)"
   ]
  },
  {
   "cell_type": "code",
   "execution_count": 91,
   "id": "624484ea",
   "metadata": {},
   "outputs": [],
   "source": [
    "# the whole group must be added\n",
    "for group_num in range(len(number_of_customers_in_group)):\n",
    "    \n",
    "    group_must_be_added = gp.LinExpr() # collects the sum of all the seats the group sits in\n",
    "    is_group_accepted = gp.LinExpr(number_of_customers_in_group[group_num] * groupAccepted[group_num]) #determines if the group will be seated or not\n",
    "    \n",
    "    for customer_index in range(0, number_of_customers_in_group[group_num]):\n",
    "        for seat in range(number_of_seats):\n",
    "            group_must_be_added += person_inGroup_atSeat[customer_index, group_num, seat]   \n",
    "    \n",
    "    theater_seat_organizer.addConstr(group_must_be_added == is_group_accepted, name = \"is_group_\" + str(group_num) + \"_accepted\")\n",
    "\n"
   ]
  },
  {
   "cell_type": "markdown",
   "id": "e7c8a618",
   "metadata": {},
   "source": [
    "# Optimize "
   ]
  },
  {
   "cell_type": "code",
   "execution_count": null,
   "id": "16ae5900",
   "metadata": {},
   "outputs": [
    {
     "name": "stdout",
     "output_type": "stream",
     "text": [
      "Gurobi Optimizer version 9.1.2 build v9.1.2rc0 (win64)\n",
      "Thread count: 2 physical cores, 4 logical processors, using up to 4 threads\n",
      "Optimize a model with 2583426 rows, 20981 columns and 5229129 nonzeros\n",
      "Model fingerprint: 0x3b228b61\n",
      "Model has 2 quadratic objective terms\n",
      "Variable types: 0 continuous, 20981 integer (20981 binary)\n",
      "Coefficient statistics:\n",
      "  Matrix range     [1e+00, 9e+00]\n",
      "  Objective range  [1e+00, 1e+00]\n",
      "  QObjective range [1e+01, 1e+01]\n",
      "  Bounds range     [1e+00, 1e+00]\n",
      "  RHS range        [1e+00, 1e+00]\n",
      "Found heuristic solution: objective -0.0000000\n",
      "Presolve removed 1 rows and 1 columns (presolve time = 6s) ...\n",
      "Presolve removed 1 rows and 1 columns (presolve time = 10s) ...\n",
      "Presolve removed 2487030 rows and 1 columns (presolve time = 15s) ...\n",
      "Presolve removed 2494100 rows and 1 columns (presolve time = 20s) ...\n",
      "Presolve removed 2501363 rows and 1 columns (presolve time = 25s) ...\n",
      "Presolve removed 2508433 rows and 1 columns (presolve time = 30s) ...\n",
      "Presolve removed 2515579 rows and 1 columns (presolve time = 35s) ...\n",
      "Presolve removed 2522833 rows and 1 columns (presolve time = 40s) ...\n",
      "Presolve removed 2530372 rows and 1 columns (presolve time = 45s) ...\n",
      "Presolve removed 2532128 rows and 1 columns (presolve time = 50s) ...\n",
      "Presolve removed 2532128 rows and 1 columns (presolve time = 55s) ...\n",
      "Presolve removed 2532128 rows and 1 columns (presolve time = 60s) ...\n",
      "Presolve removed 2532128 rows and 1 columns (presolve time = 65s) ...\n",
      "Presolve removed 2532128 rows and 1 columns\n",
      "Presolve time: 65.02s\n",
      "Presolved: 51300 rows, 20982 columns, 1990277 nonzeros\n",
      "Variable types: 0 continuous, 20982 integer (20982 binary)\n",
      "\n",
      "Deterministic concurrent LP optimizer: primal and dual simplex\n",
      "Showing first log only...\n",
      "\n",
      "\n",
      "Root simplex log...\n",
      "\n",
      "Iteration    Objective       Primal Inf.    Dual Inf.      Time\n",
      "       0   -1.0000000e+01   0.000000e+00   2.257000e+04     73s\n",
      "Warning: Markowitz tolerance tightened to 0.5\n",
      "    1608    1.1465507e+02   2.401511e+00   3.714214e+10     75s\n",
      "    3371    1.4100000e+02   0.000000e+00   0.000000e+00     80s\n",
      "    3371    1.4100000e+02   0.000000e+00   0.000000e+00     80s\n",
      "Concurrent spin time: 2.17s\n",
      "\n",
      "Solved with primal simplex\n",
      "\n",
      "Root relaxation: objective 1.410000e+02, 3371 iterations, 13.61 seconds\n",
      "Total elapsed time = 96.01s\n",
      "Total elapsed time = 101.45s\n",
      "Total elapsed time = 106.86s\n",
      "\n",
      "    Nodes    |    Current Node    |     Objective Bounds      |     Work\n",
      " Expl Unexpl |  Obj  Depth IntInf | Incumbent    BestBd   Gap | It/Node Time\n",
      "\n",
      "     0     0  141.00000    0  433   -0.00000  141.00000      -     -  111s\n",
      "H    0     0                     112.0000000  141.00000  25.9%     -  112s\n",
      "H    0     0                     115.0000000  141.00000  22.6%     -  117s\n",
      "     0     0  141.00000    0  881  115.00000  141.00000  22.6%     -  149s\n",
      "H    0     0                     128.0000000  141.00000  10.2%     -  155s\n"
     ]
    }
   ],
   "source": [
    "theater_seat_organizer.optimize()"
   ]
  },
  {
   "cell_type": "markdown",
   "id": "d5ff810b",
   "metadata": {},
   "source": [
    "# Post Process"
   ]
  },
  {
   "cell_type": "code",
   "execution_count": 79,
   "id": "e58e53fe",
   "metadata": {},
   "outputs": [
    {
     "name": "stdout",
     "output_type": "stream",
     "text": [
      "Seat0: person1 fromGroup3\n",
      "Seat1: person0 fromGroup3\n",
      "Seat2: <empty>\n",
      "Seat3: person1 fromGroup4\n",
      "Seat4: person2 fromGroup4\n",
      "Seat5: person0 fromGroup4\n",
      "Seat6: <empty>\n",
      "Seat7: person2 fromGroup0\n",
      "Seat8: person3 fromGroup0\n",
      "Seat9: person4 fromGroup0\n",
      "Seat10: person0 fromGroup0\n",
      "Seat11: person1 fromGroup0\n"
     ]
    }
   ],
   "source": [
    "seating_scheme = list()\n",
    "for seat in range(number_of_seats):\n",
    "    seatFound = False\n",
    "    for group_num in range(len(number_of_customers_in_group)):\n",
    "        for customer_index in range(0, number_of_customers_in_group[group_num]):\n",
    "            result = person_inGroup_atSeat[customer_index, group_num, seat]\n",
    "            \n",
    "            if( result.x == 1 ):\n",
    "                seatFound = True\n",
    "                print( \"Seat\" + str(seat) + \": person\" + str(customer_index) + \" fromGroup\" + str(group_num))\n",
    "                \n",
    "                seating_scheme.append((customer_index, group_num))\n",
    "    \n",
    "    if(not seatFound):\n",
    "        print(\"Seat\" + str(seat) + \": <empty>\")\n",
    "        seating_scheme.append(None)"
   ]
  },
  {
   "cell_type": "code",
   "execution_count": 82,
   "id": "92f0d2d2",
   "metadata": {},
   "outputs": [
    {
     "name": "stdout",
     "output_type": "stream",
     "text": [
      "person 1 from group 4\n",
      "<SPACE>\n",
      "person 2 from group 5\n",
      "person 3 from group 5\n",
      "person 1 from group 5\n",
      "<SPACE>\n",
      "person 3 from group 1\n",
      "person 4 from group 1\n",
      "person 5 from group 1\n",
      "person 1 from group 1\n",
      "person 2 from group 1\n"
     ]
    }
   ],
   "source": [
    "genericSpacing = list()\n",
    "last_group = -1\n",
    "for value in seating_scheme:\n",
    "    if(type(value) == tuple and value[1] != last_group):\n",
    "        genericSpacing.append((None,None))\n",
    "        genericSpacing.append(value)\n",
    "        last_group = value[1]\n",
    "        \n",
    "    \n",
    "    elif(type(value) == tuple and value[1] == last_group):\n",
    "        genericSpacing.append(value)\n",
    "        \n",
    "genericSpacing.pop(0)\n",
    "\n",
    "# The first index denotes the value of the person and the second index is the value of the group\n",
    "while(genericSpacing[0][1] == genericSpacing[-1][1]):\n",
    "    genericSpacing.append(genericSpacing[0])\n",
    "    genericSpacing.pop(0)\n",
    "    \n",
    "genericSpacing.pop(0)\n",
    "    \n",
    "for members in genericSpacing:\n",
    "    if not (members[0] == None):\n",
    "        print(\"person \" + str(members[0] + 1) + \" from group \" + str(members[1] + 1))\n",
    "    else:\n",
    "        print(\"<SPACE>\")\n",
    "\n"
   ]
  },
  {
   "cell_type": "code",
   "execution_count": 81,
   "id": "077bb02e",
   "metadata": {},
   "outputs": [
    {
     "name": "stdout",
     "output_type": "stream",
     "text": [
      "Group 1 is accepted\n",
      "Group 2 is excluded\n",
      "Group 3 is excluded\n",
      "Group 4 is accepted\n",
      "Group 5 is accepted\n",
      "Group 6 is excluded\n",
      "Group 7 is excluded\n"
     ]
    }
   ],
   "source": [
    "for group_num in range(len(groupAccepted)):\n",
    "    if(groupAccepted[group_num].x != 1):\n",
    "        print(\"Group \" + str(group_num + 1) + \" is excluded\")\n",
    "    else:\n",
    "        print(\"Group \" + str(group_num + 1) + \" is accepted\")\n",
    "#print(groupAccepted)"
   ]
  },
  {
   "cell_type": "code",
   "execution_count": null,
   "id": "c088c8ae",
   "metadata": {},
   "outputs": [],
   "source": []
  }
 ],
 "metadata": {
  "kernelspec": {
   "display_name": "Python 3",
   "language": "python",
   "name": "python3"
  },
  "language_info": {
   "codemirror_mode": {
    "name": "ipython",
    "version": 3
   },
   "file_extension": ".py",
   "mimetype": "text/x-python",
   "name": "python",
   "nbconvert_exporter": "python",
   "pygments_lexer": "ipython3",
   "version": "3.8.8"
  }
 },
 "nbformat": 4,
 "nbformat_minor": 5
}
