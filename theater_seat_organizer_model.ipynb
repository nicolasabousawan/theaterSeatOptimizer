{
 "cells": [
  {
   "cell_type": "code",
   "execution_count": 78,
   "id": "3a788602",
   "metadata": {},
   "outputs": [],
   "source": [
    "import gurobipy as gp\n",
    "from gurobipy import GRB"
   ]
  },
  {
   "cell_type": "markdown",
   "id": "d334d694",
   "metadata": {},
   "source": [
    "# The Model"
   ]
  },
  {
   "cell_type": "code",
   "execution_count": 79,
   "id": "c3b8ac3e",
   "metadata": {},
   "outputs": [],
   "source": [
    "theater_seat_organizer = gp.Model()"
   ]
  },
  {
   "cell_type": "markdown",
   "id": "7f55d7b7",
   "metadata": {},
   "source": [
    "# The Parameters"
   ]
  },
  {
   "cell_type": "code",
   "execution_count": 240,
   "id": "c6e9d6e9",
   "metadata": {},
   "outputs": [],
   "source": [
    "test_name = \"Test Case 3 (exceeding theatre capacity)\"\n",
    "number_of_customers_in_group = [5,6,2,2,3,4,8]\n",
    "customer_vaccination_status = [ [0,0,1,0,1], [0,1,0,0,0,1], [1, 1], [1, 1], [1, 1, 0], [1, 1, 0, 0], [1,1,1,1,0,0,0,0] ]\n",
    "number_of_seats = 12\n",
    "non_vax_cost = 0.01"
   ]
  },
  {
   "cell_type": "markdown",
   "id": "fdcc9862",
   "metadata": {},
   "source": [
    "# Parameter Validation Logic"
   ]
  },
  {
   "cell_type": "code",
   "execution_count": 241,
   "id": "040ba17a",
   "metadata": {},
   "outputs": [],
   "source": [
    "def isBinary(num):\n",
    "    if(num == 1 or num == 0):\n",
    "        return True\n",
    "    else:\n",
    "        return False\n",
    "\n",
    "\n",
    "# Vaccine Records Should Match Customer Records\n",
    "number_of_vax = count = sum( [ len(customers) for customers in customer_vaccination_status])\n",
    "\n",
    "if(sum(number_of_customers_in_group) != number_of_vax):\n",
    "    raise ValueError('Vaccine Records Do Not Match Customer Records')\n",
    "    \n",
    "# Vaccine Records Should be Formatted like Customer Records\n",
    "for index, customer_ofGroup_vaxList in enumerate(customer_vaccination_status):\n",
    "    if any(not isBinary(person) for person in customer_ofGroup_vaxList):\n",
    "        raise ValueError('Invalid Arg: Person is either vaxed = 1 or unvaxxed = 0')\n",
    "        \n",
    "    if(len(customer_ofGroup_vaxList) != number_of_customers_in_group[index]):\n",
    "        raise ValueError('Vaccine Records Are Not Formatted Correctly')\n",
    "\n"
   ]
  },
  {
   "cell_type": "markdown",
   "id": "a3cd7902",
   "metadata": {},
   "source": [
    "# Decision Variables"
   ]
  },
  {
   "cell_type": "code",
   "execution_count": 242,
   "id": "0ca77512",
   "metadata": {},
   "outputs": [],
   "source": [
    "person_inGroup_atSeat = {}\n",
    "\n",
    "for group_num in range(len(number_of_customers_in_group)):\n",
    "    for customer_index in range(0, number_of_customers_in_group[group_num]):\n",
    "        for seat in range(number_of_seats):\n",
    "            \n",
    "            person_inGroup_atSeat[customer_index, group_num, seat] = theater_seat_organizer.addVar(vtype = GRB.BINARY, name = \"person\" + str(customer_index) + \"_inGroup\" + str(group_num) + \"_atSeat\" + str(seat))\n",
    "\n",
    "groupAccepted = {}\n",
    "for group_num in range(len(number_of_customers_in_group)):\n",
    "    groupAccepted[group_num] = theater_seat_organizer.addVar(vtype = GRB.BINARY, name = \"group\" + str(group_num) + \"_admitted\")\n",
    "\n",
    "\n",
    "            "
   ]
  },
  {
   "cell_type": "markdown",
   "id": "ff81938a",
   "metadata": {},
   "source": [
    "# The Model"
   ]
  },
  {
   "cell_type": "code",
   "execution_count": 243,
   "id": "29e245f6",
   "metadata": {},
   "outputs": [],
   "source": [
    "objectiveFunction = gp.LinExpr()\n",
    "\n",
    "for group_num in range(len(number_of_customers_in_group)):\n",
    "    for customer_index in range(0, number_of_customers_in_group[group_num]):\n",
    "        for seat in range(number_of_seats):\n",
    "            objectiveFunction += person_inGroup_atSeat[customer_index, group_num, seat]   \n",
    "    \n",
    "for group_num in range(len(number_of_customers_in_group)):\n",
    "    objectiveFunction -= non_vax_cost * (1-groupAccepted[group_num])\n",
    "\n",
    "theater_seat_organizer.setObjective(objectiveFunction,  GRB.MAXIMIZE)"
   ]
  },
  {
   "cell_type": "markdown",
   "id": "1da26322",
   "metadata": {},
   "source": [
    "# Constraints"
   ]
  },
  {
   "cell_type": "code",
   "execution_count": 244,
   "id": "bc8acb91",
   "metadata": {},
   "outputs": [],
   "source": [
    "# at most one person per seat\n",
    "for seat in range(number_of_seats):\n",
    "    at_most_one_person_per_seat = gp.LinExpr()\n",
    "    \n",
    "    for group_num in range(len(number_of_customers_in_group)):\n",
    "        for customer_index in range(0, number_of_customers_in_group[group_num]):\n",
    "            at_most_one_person_per_seat += person_inGroup_atSeat[customer_index, group_num, seat]   \n",
    "    theater_seat_organizer.addConstr(at_most_one_person_per_seat <= 1, name = \"at_most_one_person_at_seat\" + str(seat))\n",
    "\n"
   ]
  },
  {
   "cell_type": "code",
   "execution_count": 245,
   "id": "e142a8fb",
   "metadata": {},
   "outputs": [],
   "source": [
    "# the whole group must be added\n",
    "for group_num in range(len(number_of_customers_in_group)):\n",
    "    \n",
    "    group_must_be_added = gp.LinExpr() # collects the sum of all the seats the group sits in\n",
    "    is_group_accepted = gp.LinExpr(number_of_customers_in_group[group_num] * groupAccepted[group_num]) #determines if the group will be seated or not\n",
    "    \n",
    "    for customer_index in range(0, number_of_customers_in_group[group_num]):\n",
    "        for seat in range(number_of_seats):\n",
    "            group_must_be_added += person_inGroup_atSeat[customer_index, group_num, seat]   \n",
    "    \n",
    "    theater_seat_organizer.addConstr(group_must_be_added == is_group_accepted, name = \"is_group_\" + str(group_num) + \"_accepted\")\n"
   ]
  },
  {
   "cell_type": "code",
   "execution_count": 246,
   "id": "e8968489",
   "metadata": {},
   "outputs": [],
   "source": [
    "# each person should be assigned to only one seat \n",
    "for group_num in range(len(number_of_customers_in_group)):\n",
    "    for customer_index in range(0, number_of_customers_in_group[group_num]):\n",
    "        seats_per_person = gp.LinExpr()\n",
    "        \n",
    "        for seat in range(number_of_seats):\n",
    "            seats_per_person += person_inGroup_atSeat[customer_index, group_num, seat] \n",
    "            \n",
    "        theater_seat_organizer.addConstr(seats_per_person <= 1, name = \"person\" + str(customer_index) + \"_group\" + str(group_num) + \"_uniqueSeat\")\n"
   ]
  },
  {
   "cell_type": "code",
   "execution_count": 247,
   "id": "faf71aca",
   "metadata": {},
   "outputs": [],
   "source": [
    "# There must be an empty seat between groups \n",
    "for seat in range(number_of_seats - 1):\n",
    "    \n",
    "    for group_num in range(len(number_of_customers_in_group)):\n",
    "        for other_group_num in range(len(number_of_customers_in_group)):\n",
    "            \n",
    "            if not(group_num == other_group_num):    \n",
    "                \n",
    "                for customer_index in range(0, number_of_customers_in_group[group_num]):\n",
    "                    for customer2_index in range(0, number_of_customers_in_group[other_group_num]):\n",
    "                        \n",
    "                        seat1 = person_inGroup_atSeat[customer_index, group_num, seat]\n",
    "                        seat2 = person_inGroup_atSeat[customer2_index, other_group_num, seat+1]\n",
    "                        label = \"person\" + str(customer_index) + \"_inGroup\" + str(group_num) + \"_andPerson\" + str(customer2_index) + \"+inGroup\" + str(other_group_num) + \"_cannotSitTogether\"\n",
    "                        theater_seat_organizer.addConstr( seat1 + seat2 <= 1, name = label)"
   ]
  },
  {
   "cell_type": "markdown",
   "id": "e7c8a618",
   "metadata": {},
   "source": [
    "# Optimize "
   ]
  },
  {
   "cell_type": "code",
   "execution_count": 248,
   "id": "16ae5900",
   "metadata": {},
   "outputs": [
    {
     "name": "stdout",
     "output_type": "stream",
     "text": [
      "Gurobi Optimizer version 9.1.2 build v9.1.2rc0 (mac64)\n",
      "Thread count: 8 physical cores, 16 logical processors, using up to 16 threads\n",
      "Optimize a model with 341507 rows, 14239 columns and 724115 nonzeros\n",
      "Model fingerprint: 0xf28300de\n",
      "Variable types: 0 continuous, 14239 integer (14239 binary)\n",
      "Coefficient statistics:\n",
      "  Matrix range     [1e+00, 9e+00]\n",
      "  Objective range  [1e-02, 1e+00]\n",
      "  Bounds range     [1e+00, 1e+00]\n",
      "  RHS range        [1e+00, 1e+00]\n",
      "\n",
      "MIP start from previous solve produced solution with objective -0.07 (0.33s)\n",
      "MIP start from previous solve produced solution with objective 7.95 (0.33s)\n",
      "MIP start from previous solve produced solution with objective 8.95 (0.34s)\n",
      "MIP start from previous solve produced solution with objective 9.95 (0.52s)\n",
      "MIP start from previous solve produced solution with objective 10.95 (0.68s)\n",
      "Loaded MIP start from previous solve with objective 10.95\n",
      "Processed MIP start in 1.61 seconds\n",
      "\n",
      "Presolve removed 331051 rows and 930 columns\n",
      "Presolve time: 2.38s\n",
      "Presolved: 10456 rows, 13309 columns, 265790 nonzeros\n",
      "Variable types: 0 continuous, 13309 integer (13309 binary)\n",
      "\n",
      "Deterministic concurrent LP optimizer: primal and dual simplex\n",
      "Showing first log only...\n",
      "\n",
      "Concurrent spin time: 0.00s\n",
      "\n",
      "Solved with dual simplex\n",
      "\n",
      "Root relaxation: objective 1.196000e+01, 457 iterations, 0.06 seconds\n",
      "\n",
      "    Nodes    |    Current Node    |     Objective Bounds      |     Work\n",
      " Expl Unexpl |  Obj  Depth IntInf | Incumbent    BestBd   Gap | It/Node Time\n",
      "\n",
      "     0     0   11.96000    0   45   10.95000   11.96000  9.22%     -    4s\n",
      "     0     0   11.95942    0   34   10.95000   11.95942  9.22%     -    7s\n",
      "     0     0   11.95942    0   51   10.95000   11.95942  9.22%     -    7s\n",
      "     0     0   11.95500    0   56   10.95000   11.95500  9.18%     -    7s\n",
      "     0     0   11.95000    0   58   10.95000   11.95000  9.13%     -    7s\n",
      "     0     0   11.95000    0   64   10.95000   11.95000  9.13%     -    7s\n",
      "     0     0   11.95000    0   79   10.95000   11.95000  9.13%     -    7s\n",
      "     0     0   11.95000    0   72   10.95000   11.95000  9.13%     -    7s\n",
      "     0     0   11.95000    0   75   10.95000   11.95000  9.13%     -    7s\n",
      "     0     0   11.95000    0   62   10.95000   11.95000  9.13%     -    7s\n",
      "     0     0   11.95000    0   54   10.95000   11.95000  9.13%     -    8s\n",
      "     0     0   11.95000    0   49   10.95000   11.95000  9.13%     -    8s\n",
      "     0     0   11.95000    0   29   10.95000   11.95000  9.13%     -    8s\n",
      "     0     0   11.95000    0   65   10.95000   11.95000  9.13%     -    8s\n",
      "     0     0   11.95000    0   65   10.95000   11.95000  9.13%     -    8s\n",
      "     0     2   11.95000    0   65   10.95000   11.95000  9.13%     -    8s\n",
      "\n",
      "Cutting planes:\n",
      "  Gomory: 3\n",
      "  Cover: 2\n",
      "  Clique: 65\n",
      "  GUB cover: 2\n",
      "  Zero half: 7\n",
      "\n",
      "Explored 2453 nodes (102317 simplex iterations) in 9.58 seconds\n",
      "Thread count was 16 (of 16 available processors)\n",
      "\n",
      "Solution count 6: 10.95 10.95 9.95 ... -0.07\n",
      "\n",
      "Optimal solution found (tolerance 1.00e-04)\n",
      "Best objective 1.095000000000e+01, best bound 1.095000000000e+01, gap 0.0000%\n"
     ]
    }
   ],
   "source": [
    "theater_seat_organizer.optimize()"
   ]
  },
  {
   "cell_type": "markdown",
   "id": "d5ff810b",
   "metadata": {},
   "source": [
    "# Post Process"
   ]
  },
  {
   "cell_type": "code",
   "execution_count": 249,
   "id": "e58e53fe",
   "metadata": {},
   "outputs": [
    {
     "name": "stdout",
     "output_type": "stream",
     "text": [
      "Seat0: person1 fromGroup0\n",
      "Seat1: person4 fromGroup0\n",
      "Seat2: person0 fromGroup0\n",
      "Seat3: person3 fromGroup0\n",
      "Seat4: person2 fromGroup0\n",
      "Seat5: <empty>\n",
      "Seat6: person2 fromGroup1\n",
      "Seat7: person4 fromGroup1\n",
      "Seat8: person0 fromGroup1\n",
      "Seat9: person5 fromGroup1\n",
      "Seat10: person1 fromGroup1\n",
      "Seat11: person3 fromGroup1\n",
      "[(1, 0), (4, 0), (0, 0), (3, 0), (2, 0), None, (2, 1), (4, 1), (0, 1), (5, 1), (1, 1), (3, 1)]\n"
     ]
    }
   ],
   "source": [
    "seating_scheme = list()\n",
    "for seat in range(number_of_seats):\n",
    "    seatFound = False\n",
    "    for group_num in range(len(number_of_customers_in_group)):\n",
    "        for customer_index in range(0, number_of_customers_in_group[group_num]):\n",
    "            result = person_inGroup_atSeat[customer_index, group_num, seat]\n",
    "            \n",
    "            if( result.x == 1 ):\n",
    "                seatFound = True\n",
    "                print( \"Seat\" + str(seat) + \": person\" + str(customer_index) + \" fromGroup\" + str(group_num))\n",
    "                \n",
    "                seating_scheme.append((customer_index, group_num))\n",
    "    \n",
    "    if(not seatFound):\n",
    "        print(\"Seat\" + str(seat) + \": <empty>\")\n",
    "        seating_scheme.append(None)"
   ]
  },
  {
   "cell_type": "code",
   "execution_count": 250,
   "id": "92f0d2d2",
   "metadata": {},
   "outputs": [
    {
     "name": "stdout",
     "output_type": "stream",
     "text": [
      "person4 from group 0\n",
      "person0 from group 0\n",
      "person3 from group 0\n",
      "person2 from group 0\n",
      "<SPACE>\n",
      "person2 from group 1\n",
      "person4 from group 1\n",
      "person0 from group 1\n",
      "person5 from group 1\n",
      "person1 from group 1\n",
      "person3 from group 1\n"
     ]
    }
   ],
   "source": [
    "genericSpacing = list()\n",
    "last_group = -1\n",
    "for value in seating_scheme:\n",
    "    if(type(value) == tuple and value[1] != last_group):\n",
    "        genericSpacing.append((None,None))\n",
    "        genericSpacing.append(value)\n",
    "        last_group = value[1]\n",
    "        \n",
    "    \n",
    "    elif(type(value) == tuple and value[1] == last_group):\n",
    "        genericSpacing.append(value)\n",
    "        \n",
    "genericSpacing.pop(0)\n",
    "\n",
    "while(genericSpacing[0][1] == genericSpacing[-1][1]):\n",
    "    genericSpacing.append(genericSpacing[0])\n",
    "    genericSpacing.pop(0)\n",
    "    \n",
    "genericSpacing.pop(0)\n",
    "    \n",
    "for members in genericSpacing:\n",
    "    if not (members[0] == None):\n",
    "        print(\"person\" + str(members[0]) + \" from group \" + str(members[1]))\n",
    "    else:\n",
    "        print(\"<SPACE>\")\n",
    "\n"
   ]
  },
  {
   "cell_type": "code",
   "execution_count": 251,
   "id": "077bb02e",
   "metadata": {},
   "outputs": [
    {
     "name": "stdout",
     "output_type": "stream",
     "text": [
      "{0: <gurobi.Var group0_admitted (value 1.0)>, 1: <gurobi.Var group1_admitted (value 1.0)>, 2: <gurobi.Var group2_admitted (value -0.0)>, 3: <gurobi.Var group3_admitted (value -0.0)>, 4: <gurobi.Var group4_admitted (value 0.0)>, 5: <gurobi.Var group5_admitted (value 0.0)>, 6: <gurobi.Var group6_admitted (value 0.0)>}\n"
     ]
    }
   ],
   "source": [
    "print(groupAccepted)"
   ]
  },
  {
   "cell_type": "code",
   "execution_count": null,
   "id": "5b91e42b",
   "metadata": {},
   "outputs": [],
   "source": []
  },
  {
   "cell_type": "code",
   "execution_count": null,
   "id": "73f6b588",
   "metadata": {},
   "outputs": [],
   "source": []
  },
  {
   "cell_type": "code",
   "execution_count": null,
   "id": "81a39df8",
   "metadata": {},
   "outputs": [],
   "source": []
  }
 ],
 "metadata": {
  "kernelspec": {
   "display_name": "Python 3",
   "language": "python",
   "name": "python3"
  },
  "language_info": {
   "codemirror_mode": {
    "name": "ipython",
    "version": 3
   },
   "file_extension": ".py",
   "mimetype": "text/x-python",
   "name": "python",
   "nbconvert_exporter": "python",
   "pygments_lexer": "ipython3",
   "version": "3.8.8"
  }
 },
 "nbformat": 4,
 "nbformat_minor": 5
}
