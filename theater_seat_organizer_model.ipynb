{
 "cells": [
  {
   "cell_type": "code",
   "execution_count": 9,
   "id": "3a788602",
   "metadata": {},
   "outputs": [],
   "source": [
    "import gurobipy as gp\n",
    "from gurobipy import GRB"
   ]
  },
  {
   "cell_type": "markdown",
   "id": "d334d694",
   "metadata": {},
   "source": [
    "# The Model"
   ]
  },
  {
   "cell_type": "code",
   "execution_count": 22,
   "id": "c3b8ac3e",
   "metadata": {},
   "outputs": [],
   "source": [
    "theater_seat_organizer = gp.Model()"
   ]
  },
  {
   "cell_type": "markdown",
   "id": "7f55d7b7",
   "metadata": {},
   "source": [
    "# The Parameters"
   ]
  },
  {
   "cell_type": "code",
   "execution_count": 80,
   "id": "c6e9d6e9",
   "metadata": {},
   "outputs": [],
   "source": [
    "number_of_customers_in_group = [3, 5, 6] \n",
    "\n",
    "customer_vaccination_status = [\n",
    "    [0,0,0], \n",
    "    [1,1,1,1,1],\n",
    "    [0,1,0,0,1,1]\n",
    "]\n",
    "\n",
    "number_of_seats = 4\n",
    "\n",
    "non_vax_cost = 5"
   ]
  },
  {
   "cell_type": "markdown",
   "id": "fdcc9862",
   "metadata": {},
   "source": [
    "# Parameter Validation Logic"
   ]
  },
  {
   "cell_type": "code",
   "execution_count": 88,
   "id": "040ba17a",
   "metadata": {},
   "outputs": [],
   "source": [
    "def isBinary(num):\n",
    "    if(num == 1 or num == 0):\n",
    "        return True\n",
    "    else:\n",
    "        return False\n",
    "\n",
    "\n",
    "# Vaccine Records Should Match Customer Records\n",
    "number_of_vax = count = sum( [ len(customers) for customers in customer_vaccination_status])\n",
    "\n",
    "if(sum(number_of_customers_in_group) != number_of_vax):\n",
    "    raise ValueError('Vaccine Records Do Not Match Customer Records')\n",
    "    \n",
    "# Vaccine Records Should be Formatted like Customer Records\n",
    "for index, customer_ofGroup_vaxList in enumerate(customer_vaccination_status):\n",
    "    if any(not isBinary(person) for person in customer_ofGroup_vaxList):\n",
    "        raise ValueError('Invalid Arg: Person is either vaxed = 1 or unvaxxed = 0')\n",
    "        \n",
    "    if(len(customer_ofGroup_vaxList) != number_of_customers_in_group[index]):\n",
    "        raise ValueError('Vaccine Records Are Not Formatted Correctly')\n",
    "\n"
   ]
  },
  {
   "cell_type": "markdown",
   "id": "a3cd7902",
   "metadata": {},
   "source": [
    "# Decision Variables"
   ]
  },
  {
   "cell_type": "code",
   "execution_count": 65,
   "id": "0ca77512",
   "metadata": {},
   "outputs": [],
   "source": [
    "person_inGroup_atSeat = {}\n",
    "\n",
    "for group_num in range(len(number_of_customers_in_group)):\n",
    "    for customer_index in range(0, number_of_customers_in_group[group_num]):\n",
    "        for seat in range(number_of_seats):\n",
    "            \n",
    "            person_inGroup_atSeat[customer_index, group_num, seat] = theater_seat_organizer.addVar(vtype = GRB.BINARY, name = \"person\" + str(customer_index) + \"_inGroup\" + str(group_num) + \"_atSeat\" + str(seat))\n",
    "\n",
    "groupAccepted = {}\n",
    "for group_num in range(len(number_of_customers_in_group)):\n",
    "    groupAccepted[group_num] = theater_seat_organizer.addVar(vtype = GRB.BINARY, name = \"group\" + str(group_num) + \"_admitted\")\n",
    "\n",
    "\n",
    "            "
   ]
  },
  {
   "cell_type": "markdown",
   "id": "ff81938a",
   "metadata": {},
   "source": [
    "# The Model"
   ]
  },
  {
   "cell_type": "code",
   "execution_count": 66,
   "id": "29e245f6",
   "metadata": {},
   "outputs": [],
   "source": [
    "objectiveFunction = gp.LinExpr()\n",
    "\n",
    "for group_num in range(len(number_of_customers_in_group)):\n",
    "    for customer_index in range(0, number_of_customers_in_group[group_num]):\n",
    "        for seat in range(number_of_seats):\n",
    "            objectiveFunction += person_inGroup_atSeat[customer_index, group_num, seat]   \n",
    "    \n",
    "for group_num in range(len(number_of_customers_in_group)):\n",
    "    objectiveFunction -= non_vax_cost * (1-groupAccepted[group_num])\n",
    "\n",
    "theater_seat_organizer.setObjective(objectiveFunction,  GRB.MAXIMIZE)"
   ]
  },
  {
   "cell_type": "code",
   "execution_count": 45,
   "id": "7b0c670b",
   "metadata": {},
   "outputs": [
    {
     "data": {
      "text/plain": [
       "21"
      ]
     },
     "execution_count": 45,
     "metadata": {},
     "output_type": "execute_result"
    }
   ],
   "source": []
  },
  {
   "cell_type": "code",
   "execution_count": null,
   "id": "bc8acb91",
   "metadata": {},
   "outputs": [],
   "source": []
  }
 ],
 "metadata": {
  "kernelspec": {
   "display_name": "Python 3",
   "language": "python",
   "name": "python3"
  },
  "language_info": {
   "codemirror_mode": {
    "name": "ipython",
    "version": 3
   },
   "file_extension": ".py",
   "mimetype": "text/x-python",
   "name": "python",
   "nbconvert_exporter": "python",
   "pygments_lexer": "ipython3",
   "version": "3.8.8"
  }
 },
 "nbformat": 4,
 "nbformat_minor": 5
}
